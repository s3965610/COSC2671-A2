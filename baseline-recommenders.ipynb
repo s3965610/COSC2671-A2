{
 "cells": [
  {
   "cell_type": "markdown",
   "id": "92e7445e",
   "metadata": {},
   "source": [
    "# Baseline Recommenders\n",
    "\n",
    "This notebook provides two types of prediction algorithms which constitute a baseline for model comparisons.\n",
    "\n",
    "**Note:** following are from [suprise docs](https://surprise.readthedocs.io/en/stable/prediction_algorithms_package.html)\n",
    "\n",
    "## Baseline\n",
    "\n",
    "BaselineOnly - predicts the baseline estimate for given user item (this is most important to compare with).\n",
    "\n",
    "## Collaborative Filtering\n",
    "\n",
    "KNNBasic - knn based collaborative filtering\n",
    "\n",
    "KNNWithMeans - KNN based collaborative filtering, taking mean ratings of each user into account\n",
    "\n",
    "KNNBaseline - KNN based collaborative filtering taking into account a _baseline_ rating.\n"
   ]
  },
  {
   "cell_type": "code",
   "execution_count": 122,
   "id": "386a3f0d",
   "metadata": {},
   "outputs": [],
   "source": [
    "import pandas as pd\n",
    "from surprise import Dataset, Reader, BaselineOnly, KNNBasic, KNNWithMeans, KNNBaseline\n",
    "# from surprise.model_selection.validation import cross_validate\n",
    "import numpy as np\n",
    "from sklearn.model_selection import train_test_split"
   ]
  },
  {
   "cell_type": "code",
   "execution_count": 21,
   "id": "c2dd2b26",
   "metadata": {},
   "outputs": [
    {
     "data": {
      "text/html": [
       "<div>\n",
       "<style scoped>\n",
       "    .dataframe tbody tr th:only-of-type {\n",
       "        vertical-align: middle;\n",
       "    }\n",
       "\n",
       "    .dataframe tbody tr th {\n",
       "        vertical-align: top;\n",
       "    }\n",
       "\n",
       "    .dataframe thead th {\n",
       "        text-align: right;\n",
       "    }\n",
       "</style>\n",
       "<table border=\"1\" class=\"dataframe\">\n",
       "  <thead>\n",
       "    <tr style=\"text-align: right;\">\n",
       "      <th></th>\n",
       "      <th>User</th>\n",
       "      <th>Repos</th>\n",
       "      <th>Rating</th>\n",
       "    </tr>\n",
       "  </thead>\n",
       "  <tbody>\n",
       "    <tr>\n",
       "      <th>0</th>\n",
       "      <td>0x00evil</td>\n",
       "      <td>atom/atom</td>\n",
       "      <td>1.0</td>\n",
       "    </tr>\n",
       "    <tr>\n",
       "      <th>1</th>\n",
       "      <td>0x00evil</td>\n",
       "      <td>scrapy/scrapy</td>\n",
       "      <td>1.0</td>\n",
       "    </tr>\n",
       "    <tr>\n",
       "      <th>2</th>\n",
       "      <td>0x00evil</td>\n",
       "      <td>jekyll/jekyll</td>\n",
       "      <td>1.0</td>\n",
       "    </tr>\n",
       "    <tr>\n",
       "      <th>3</th>\n",
       "      <td>0x00evil</td>\n",
       "      <td>git/git</td>\n",
       "      <td>1.0</td>\n",
       "    </tr>\n",
       "    <tr>\n",
       "      <th>4</th>\n",
       "      <td>0x00evil</td>\n",
       "      <td>torvalds/linux</td>\n",
       "      <td>1.0</td>\n",
       "    </tr>\n",
       "  </tbody>\n",
       "</table>\n",
       "</div>"
      ],
      "text/plain": [
       "       User           Repos  Rating\n",
       "0  0x00evil       atom/atom     1.0\n",
       "1  0x00evil   scrapy/scrapy     1.0\n",
       "2  0x00evil   jekyll/jekyll     1.0\n",
       "3  0x00evil         git/git     1.0\n",
       "4  0x00evil  torvalds/linux     1.0"
      ]
     },
     "execution_count": 21,
     "metadata": {},
     "output_type": "execute_result"
    }
   ],
   "source": [
    "all_users = pd.read_csv('./top_users.csv')\n",
    "all_repos = pd.read_csv('./top_repos.csv')\n",
    "all_ratings = pd.read_csv('./user-item-ratings.csv')\n",
    "\n",
    "all_ratings.head()"
   ]
  },
  {
   "cell_type": "code",
   "execution_count": 56,
   "id": "419cf5cd",
   "metadata": {},
   "outputs": [
    {
     "data": {
      "text/plain": [
       "0x00evil    0\n",
       "0xWDG       1\n",
       "11ph22il    2\n",
       "1pete       3\n",
       "1suming     4\n",
       "dtype: int64"
      ]
     },
     "metadata": {},
     "output_type": "display_data"
    },
    {
     "data": {
      "text/plain": [
       "atom/atom         0\n",
       "scrapy/scrapy     1\n",
       "jekyll/jekyll     2\n",
       "git/git           3\n",
       "torvalds/linux    4\n",
       "dtype: int64"
      ]
     },
     "metadata": {},
     "output_type": "display_data"
    }
   ],
   "source": [
    "codes, uniques = pd.factorize(all_ratings['User'].unique())\n",
    "user_ids = pd.Series(codes, index=uniques)\n",
    "\n",
    "codes, uniques = pd.factorize(all_ratings['Repos'].unique())\n",
    "repo_ids = pd.Series(codes, index=uniques)\n",
    "\n",
    "display(user_ids.head(), rating_ids.head())"
   ]
  },
  {
   "cell_type": "code",
   "execution_count": 49,
   "id": "79e14bf4",
   "metadata": {},
   "outputs": [
    {
     "data": {
      "text/plain": [
       "606"
      ]
     },
     "execution_count": 49,
     "metadata": {},
     "output_type": "execute_result"
    }
   ],
   "source": [
    "tmp = pd.Series(user_ids[0], index=user_ids[1])\n",
    "tmp[tmp.index == 'jgarcia'][0]\n"
   ]
  },
  {
   "cell_type": "code",
   "execution_count": 22,
   "id": "8f22ae2a",
   "metadata": {},
   "outputs": [
    {
     "name": "stdout",
     "output_type": "stream",
     "text": [
      "Number of Users: 1162\n",
      "Number of Repos: 272\n"
     ]
    }
   ],
   "source": [
    "n_users = all_ratings.User.unique().shape[0]\n",
    "n_repos = all_ratings.Repos.unique().shape[0]\n",
    "\n",
    "print(f'Number of Users: {n_users}')\n",
    "print(f'Number of Repos: {n_repos}')"
   ]
  },
  {
   "cell_type": "code",
   "execution_count": 59,
   "id": "9eb328ed",
   "metadata": {},
   "outputs": [
    {
     "data": {
      "text/html": [
       "<div>\n",
       "<style scoped>\n",
       "    .dataframe tbody tr th:only-of-type {\n",
       "        vertical-align: middle;\n",
       "    }\n",
       "\n",
       "    .dataframe tbody tr th {\n",
       "        vertical-align: top;\n",
       "    }\n",
       "\n",
       "    .dataframe thead th {\n",
       "        text-align: right;\n",
       "    }\n",
       "</style>\n",
       "<table border=\"1\" class=\"dataframe\">\n",
       "  <thead>\n",
       "    <tr style=\"text-align: right;\">\n",
       "      <th></th>\n",
       "      <th>User</th>\n",
       "      <th>Repos</th>\n",
       "      <th>Rating</th>\n",
       "    </tr>\n",
       "  </thead>\n",
       "  <tbody>\n",
       "    <tr>\n",
       "      <th>1492</th>\n",
       "      <td>alekpopovic</td>\n",
       "      <td>microsoft/TypeScript</td>\n",
       "      <td>1.0</td>\n",
       "    </tr>\n",
       "    <tr>\n",
       "      <th>6864</th>\n",
       "      <td>q4323636</td>\n",
       "      <td>angular/angular.js</td>\n",
       "      <td>1.0</td>\n",
       "    </tr>\n",
       "    <tr>\n",
       "      <th>4654</th>\n",
       "      <td>johnnyreilly</td>\n",
       "      <td>microsoft/TypeScript</td>\n",
       "      <td>1.0</td>\n",
       "    </tr>\n",
       "    <tr>\n",
       "      <th>4364</th>\n",
       "      <td>israelsantiago</td>\n",
       "      <td>jquery/jquery</td>\n",
       "      <td>1.0</td>\n",
       "    </tr>\n",
       "    <tr>\n",
       "      <th>6439</th>\n",
       "      <td>omargourari</td>\n",
       "      <td>apache/superset</td>\n",
       "      <td>1.0</td>\n",
       "    </tr>\n",
       "    <tr>\n",
       "      <th>...</th>\n",
       "      <td>...</td>\n",
       "      <td>...</td>\n",
       "      <td>...</td>\n",
       "    </tr>\n",
       "    <tr>\n",
       "      <th>3863</th>\n",
       "      <td>hackhowtofaq</td>\n",
       "      <td>facebook/hhvm</td>\n",
       "      <td>1.0</td>\n",
       "    </tr>\n",
       "    <tr>\n",
       "      <th>3822</th>\n",
       "      <td>grimen</td>\n",
       "      <td>videojs/video.js</td>\n",
       "      <td>1.0</td>\n",
       "    </tr>\n",
       "    <tr>\n",
       "      <th>702</th>\n",
       "      <td>KyleCharters</td>\n",
       "      <td>denoland/deno</td>\n",
       "      <td>1.0</td>\n",
       "    </tr>\n",
       "    <tr>\n",
       "      <th>6696</th>\n",
       "      <td>pmarin</td>\n",
       "      <td>Developer-Y/cs-video-courses</td>\n",
       "      <td>1.0</td>\n",
       "    </tr>\n",
       "    <tr>\n",
       "      <th>7212</th>\n",
       "      <td>rogersmarin</td>\n",
       "      <td>CamDavidsonPilon/Probabilistic-Programming-and...</td>\n",
       "      <td>1.0</td>\n",
       "    </tr>\n",
       "  </tbody>\n",
       "</table>\n",
       "<p>7347 rows × 3 columns</p>\n",
       "</div>"
      ],
      "text/plain": [
       "                User                                              Repos  \\\n",
       "1492     alekpopovic                               microsoft/TypeScript   \n",
       "6864        q4323636                                 angular/angular.js   \n",
       "4654    johnnyreilly                               microsoft/TypeScript   \n",
       "4364  israelsantiago                                      jquery/jquery   \n",
       "6439     omargourari                                    apache/superset   \n",
       "...              ...                                                ...   \n",
       "3863    hackhowtofaq                                      facebook/hhvm   \n",
       "3822          grimen                                   videojs/video.js   \n",
       "702     KyleCharters                                      denoland/deno   \n",
       "6696          pmarin                       Developer-Y/cs-video-courses   \n",
       "7212     rogersmarin  CamDavidsonPilon/Probabilistic-Programming-and...   \n",
       "\n",
       "      Rating  \n",
       "1492     1.0  \n",
       "6864     1.0  \n",
       "4654     1.0  \n",
       "4364     1.0  \n",
       "6439     1.0  \n",
       "...      ...  \n",
       "3863     1.0  \n",
       "3822     1.0  \n",
       "702      1.0  \n",
       "6696     1.0  \n",
       "7212     1.0  \n",
       "\n",
       "[7347 rows x 3 columns]"
      ]
     },
     "metadata": {},
     "output_type": "display_data"
    },
    {
     "data": {
      "text/html": [
       "<div>\n",
       "<style scoped>\n",
       "    .dataframe tbody tr th:only-of-type {\n",
       "        vertical-align: middle;\n",
       "    }\n",
       "\n",
       "    .dataframe tbody tr th {\n",
       "        vertical-align: top;\n",
       "    }\n",
       "\n",
       "    .dataframe thead th {\n",
       "        text-align: right;\n",
       "    }\n",
       "</style>\n",
       "<table border=\"1\" class=\"dataframe\">\n",
       "  <thead>\n",
       "    <tr style=\"text-align: right;\">\n",
       "      <th></th>\n",
       "      <th>User</th>\n",
       "      <th>Repos</th>\n",
       "      <th>Rating</th>\n",
       "    </tr>\n",
       "  </thead>\n",
       "  <tbody>\n",
       "    <tr>\n",
       "      <th>8298</th>\n",
       "      <td>tsega</td>\n",
       "      <td>ossu/computer-science</td>\n",
       "      <td>1.0</td>\n",
       "    </tr>\n",
       "    <tr>\n",
       "      <th>3131</th>\n",
       "      <td>edifierx666</td>\n",
       "      <td>justjavac/free-programming-books-zh_CN</td>\n",
       "      <td>1.0</td>\n",
       "    </tr>\n",
       "    <tr>\n",
       "      <th>6628</th>\n",
       "      <td>pengyunchou</td>\n",
       "      <td>tensorflow/tensorflow</td>\n",
       "      <td>1.0</td>\n",
       "    </tr>\n",
       "    <tr>\n",
       "      <th>2177</th>\n",
       "      <td>boiyoo</td>\n",
       "      <td>microsoft/vscode</td>\n",
       "      <td>1.0</td>\n",
       "    </tr>\n",
       "    <tr>\n",
       "      <th>8541</th>\n",
       "      <td>vitorsilverio</td>\n",
       "      <td>arduino/Arduino</td>\n",
       "      <td>1.0</td>\n",
       "    </tr>\n",
       "    <tr>\n",
       "      <th>...</th>\n",
       "      <td>...</td>\n",
       "      <td>...</td>\n",
       "      <td>...</td>\n",
       "    </tr>\n",
       "    <tr>\n",
       "      <th>3776</th>\n",
       "      <td>gpicchiarelli</td>\n",
       "      <td>SerenityOS/serenity</td>\n",
       "      <td>1.0</td>\n",
       "    </tr>\n",
       "    <tr>\n",
       "      <th>4243</th>\n",
       "      <td>ikkira</td>\n",
       "      <td>ionic-team/ionic-framework</td>\n",
       "      <td>1.0</td>\n",
       "    </tr>\n",
       "    <tr>\n",
       "      <th>3470</th>\n",
       "      <td>flipflop</td>\n",
       "      <td>videojs/video.js</td>\n",
       "      <td>1.0</td>\n",
       "    </tr>\n",
       "    <tr>\n",
       "      <th>844</th>\n",
       "      <td>ParaXY</td>\n",
       "      <td>tensorflow/tensorflow</td>\n",
       "      <td>1.0</td>\n",
       "    </tr>\n",
       "    <tr>\n",
       "      <th>1730</th>\n",
       "      <td>anoland</td>\n",
       "      <td>mozilla/pdf.js</td>\n",
       "      <td>1.0</td>\n",
       "    </tr>\n",
       "  </tbody>\n",
       "</table>\n",
       "<p>1837 rows × 3 columns</p>\n",
       "</div>"
      ],
      "text/plain": [
       "               User                                   Repos  Rating\n",
       "8298          tsega                   ossu/computer-science     1.0\n",
       "3131    edifierx666  justjavac/free-programming-books-zh_CN     1.0\n",
       "6628    pengyunchou                   tensorflow/tensorflow     1.0\n",
       "2177         boiyoo                        microsoft/vscode     1.0\n",
       "8541  vitorsilverio                         arduino/Arduino     1.0\n",
       "...             ...                                     ...     ...\n",
       "3776  gpicchiarelli                     SerenityOS/serenity     1.0\n",
       "4243         ikkira              ionic-team/ionic-framework     1.0\n",
       "3470       flipflop                        videojs/video.js     1.0\n",
       "844          ParaXY                   tensorflow/tensorflow     1.0\n",
       "1730        anoland                          mozilla/pdf.js     1.0\n",
       "\n",
       "[1837 rows x 3 columns]"
      ]
     },
     "metadata": {},
     "output_type": "display_data"
    }
   ],
   "source": [
    "train_df, test_df = train_test_split(all_ratings, test_size=0.2)\n",
    "\n",
    "display(train_df)\n",
    "display(test_df)"
   ]
  },
  {
   "cell_type": "code",
   "execution_count": 88,
   "id": "5833c5e3",
   "metadata": {},
   "outputs": [],
   "source": [
    "# User-item matrix for train\n",
    "trainset = np.zeros((n_users, n_repos))\n",
    "for row in train_df.itertuples():\n",
    "    uid = user_ids[user_ids.index == row[1]][0]\n",
    "    iid = repo_ids[repo_ids.index == row[2]][0]\n",
    "    trainset[uid, iid] = row[3]\n",
    "\n",
    "# User-item matrix for test\n",
    "testset = np.zeros((n_users, n_repos))\n",
    "for row in test_df.itertuples():\n",
    "    uid = user_ids[user_ids.index == row[1]][0]\n",
    "    iid = repo_ids[repo_ids.index == row[2]][0]\n",
    "    testset[uid, iid] = row[3]"
   ]
  },
  {
   "cell_type": "code",
   "execution_count": 92,
   "id": "4c9add15",
   "metadata": {},
   "outputs": [
    {
     "data": {
      "text/plain": [
       "array([[1., 0., 0., ..., 0., 0., 0.],\n",
       "       [1., 0., 0., ..., 0., 0., 0.],\n",
       "       [1., 0., 0., ..., 0., 0., 0.],\n",
       "       ...,\n",
       "       [0., 0., 0., ..., 0., 0., 0.],\n",
       "       [0., 0., 0., ..., 0., 0., 0.],\n",
       "       [0., 0., 0., ..., 0., 0., 0.]])"
      ]
     },
     "execution_count": 92,
     "metadata": {},
     "output_type": "execute_result"
    }
   ],
   "source": [
    "trainset.T"
   ]
  },
  {
   "cell_type": "code",
   "execution_count": null,
   "id": "5d7cf9a3",
   "metadata": {},
   "outputs": [],
   "source": [
    "DELTA = 25\n",
    "EPSILON = 1e-9\n",
    "\n",
    "user_pearson_corr = np.zeros((n_users, n_users))\n",
    "for i, user_i in enumerate(trainset.T):\n",
    "    for j, user_j in enumerate(trainset.T):\n",
    "        "
   ]
  },
  {
   "cell_type": "code",
   "execution_count": null,
   "id": "8e49d7a0",
   "metadata": {},
   "outputs": [],
   "source": []
  },
  {
   "cell_type": "code",
   "execution_count": null,
   "id": "a033e16e",
   "metadata": {},
   "outputs": [],
   "source": []
  },
  {
   "cell_type": "code",
   "execution_count": null,
   "id": "a6089b07",
   "metadata": {},
   "outputs": [],
   "source": []
  },
  {
   "cell_type": "code",
   "execution_count": 133,
   "id": "d97a0cfa",
   "metadata": {},
   "outputs": [],
   "source": [
    "# Data for surpise\n",
    "reader = Reader(rating_scale=(0, 1))\n",
    "data = Dataset.load_from_df(all_ratings[['User', 'Repos', 'Rating']], reader)\n",
    "\n",
    "\n",
    "# bsl_options = {\n",
    "#     \"reg_u\": 1,\n",
    "#     \"reg_i\": 1,\n",
    "# }\n",
    "# cross_validate(BaselineOnly(bsl_options), data, measures=['RMSE', 'MAE'], cv=5, verbose=True)\n",
    "\n",
    "# trainset_fill = data.build_full_trainset()\n",
    "# bl = BaselineOnly()\n",
    "# model = bl.fit(trainset_full)\n",
    "# preds = bl.test(testset)"
   ]
  },
  {
   "cell_type": "code",
   "execution_count": 20,
   "id": "bcff8fbc",
   "metadata": {},
   "outputs": [
    {
     "name": "stdout",
     "output_type": "stream",
     "text": [
      "Evaluating RMSE, MAE of algorithm NormalPredictor on 5 split(s).\n",
      "\n",
      "                  Fold 1  Fold 2  Fold 3  Fold 4  Fold 5  Mean    Std     \n",
      "RMSE (testset)    0.0000  0.0000  0.0000  0.0000  0.0000  0.0000  0.0000  \n",
      "MAE (testset)     0.0000  0.0000  0.0000  0.0000  0.0000  0.0000  0.0000  \n",
      "Fit time          0.04    0.03    0.04    0.03    0.03    0.04    0.01    \n",
      "Test time         0.05    0.03    0.06    0.03    0.03    0.04    0.01    \n"
     ]
    },
    {
     "data": {
      "text/plain": [
       "{'test_rmse': array([0., 0., 0., 0., 0.]),\n",
       " 'test_mae': array([0., 0., 0., 0., 0.]),\n",
       " 'fit_time': (0.0444638729095459,\n",
       "  0.03491091728210449,\n",
       "  0.0435178279876709,\n",
       "  0.03423190116882324,\n",
       "  0.028619050979614258),\n",
       " 'test_time': (0.04812312126159668,\n",
       "  0.03122997283935547,\n",
       "  0.06273603439331055,\n",
       "  0.03461813926696777,\n",
       "  0.03024911880493164)}"
      ]
     },
     "execution_count": 20,
     "metadata": {},
     "output_type": "execute_result"
    }
   ],
   "source": [
    "from surprise import NormalPredictor\n",
    "\n",
    "cross_validate(NormalPredictor(), data, measures=['RMSE', 'MAE'], cv=5, verbose=True)\n",
    "\n"
   ]
  },
  {
   "cell_type": "code",
   "execution_count": null,
   "id": "00c362ba",
   "metadata": {},
   "outputs": [],
   "source": []
  },
  {
   "cell_type": "code",
   "execution_count": 11,
   "id": "9a1feda8",
   "metadata": {},
   "outputs": [
    {
     "name": "stdout",
     "output_type": "stream",
     "text": [
      "Estimating biases using als...\n",
      "Estimating biases using als...\n",
      "Estimating biases using als...\n",
      "Estimating biases using als...\n",
      "Estimating biases using als...\n"
     ]
    },
    {
     "name": "stderr",
     "output_type": "stream",
     "text": [
      "/var/folders/xx/7djgh7s12ls6qyn4tzdljsw00000gn/T/ipykernel_16221/3444781919.py:15: FutureWarning: The series.append method is deprecated and will be removed from pandas in a future version. Use pandas.concat instead.\n",
      "  tmp = tmp.append(pd.Series([str(algorithm).split(' ')[0].split('.')[-1]], index=['Algorithm']))\n"
     ]
    },
    {
     "name": "stdout",
     "output_type": "stream",
     "text": [
      "Computing the msd similarity matrix...\n",
      "Done computing similarity matrix.\n",
      "Computing the msd similarity matrix...\n",
      "Done computing similarity matrix.\n",
      "Computing the msd similarity matrix...\n",
      "Done computing similarity matrix.\n",
      "Computing the msd similarity matrix...\n",
      "Done computing similarity matrix.\n",
      "Computing the msd similarity matrix...\n",
      "Done computing similarity matrix.\n"
     ]
    },
    {
     "name": "stderr",
     "output_type": "stream",
     "text": [
      "/var/folders/xx/7djgh7s12ls6qyn4tzdljsw00000gn/T/ipykernel_16221/3444781919.py:15: FutureWarning: The series.append method is deprecated and will be removed from pandas in a future version. Use pandas.concat instead.\n",
      "  tmp = tmp.append(pd.Series([str(algorithm).split(' ')[0].split('.')[-1]], index=['Algorithm']))\n"
     ]
    },
    {
     "name": "stdout",
     "output_type": "stream",
     "text": [
      "Computing the msd similarity matrix...\n",
      "Done computing similarity matrix.\n",
      "Computing the msd similarity matrix...\n",
      "Done computing similarity matrix.\n",
      "Computing the msd similarity matrix...\n",
      "Done computing similarity matrix.\n",
      "Computing the msd similarity matrix...\n",
      "Done computing similarity matrix.\n",
      "Computing the msd similarity matrix...\n",
      "Done computing similarity matrix.\n"
     ]
    },
    {
     "name": "stderr",
     "output_type": "stream",
     "text": [
      "/var/folders/xx/7djgh7s12ls6qyn4tzdljsw00000gn/T/ipykernel_16221/3444781919.py:15: FutureWarning: The series.append method is deprecated and will be removed from pandas in a future version. Use pandas.concat instead.\n",
      "  tmp = tmp.append(pd.Series([str(algorithm).split(' ')[0].split('.')[-1]], index=['Algorithm']))\n"
     ]
    },
    {
     "name": "stdout",
     "output_type": "stream",
     "text": [
      "Estimating biases using als...\n",
      "Computing the msd similarity matrix...\n",
      "Done computing similarity matrix.\n",
      "Estimating biases using als...\n",
      "Computing the msd similarity matrix...\n",
      "Done computing similarity matrix.\n",
      "Estimating biases using als...\n",
      "Computing the msd similarity matrix...\n",
      "Done computing similarity matrix.\n",
      "Estimating biases using als...\n",
      "Computing the msd similarity matrix...\n",
      "Done computing similarity matrix.\n",
      "Estimating biases using als...\n",
      "Computing the msd similarity matrix...\n",
      "Done computing similarity matrix.\n"
     ]
    },
    {
     "name": "stderr",
     "output_type": "stream",
     "text": [
      "/var/folders/xx/7djgh7s12ls6qyn4tzdljsw00000gn/T/ipykernel_16221/3444781919.py:15: FutureWarning: The series.append method is deprecated and will be removed from pandas in a future version. Use pandas.concat instead.\n",
      "  tmp = tmp.append(pd.Series([str(algorithm).split(' ')[0].split('.')[-1]], index=['Algorithm']))\n"
     ]
    },
    {
     "data": {
      "text/html": [
       "<div>\n",
       "<style scoped>\n",
       "    .dataframe tbody tr th:only-of-type {\n",
       "        vertical-align: middle;\n",
       "    }\n",
       "\n",
       "    .dataframe tbody tr th {\n",
       "        vertical-align: top;\n",
       "    }\n",
       "\n",
       "    .dataframe thead th {\n",
       "        text-align: right;\n",
       "    }\n",
       "</style>\n",
       "<table border=\"1\" class=\"dataframe\">\n",
       "  <thead>\n",
       "    <tr style=\"text-align: right;\">\n",
       "      <th></th>\n",
       "      <th>test_mae</th>\n",
       "      <th>train_mae</th>\n",
       "      <th>test_rmse</th>\n",
       "      <th>train_rmse</th>\n",
       "      <th>fit_time</th>\n",
       "      <th>test_time</th>\n",
       "    </tr>\n",
       "    <tr>\n",
       "      <th>Algorithm</th>\n",
       "      <th></th>\n",
       "      <th></th>\n",
       "      <th></th>\n",
       "      <th></th>\n",
       "      <th></th>\n",
       "      <th></th>\n",
       "    </tr>\n",
       "  </thead>\n",
       "  <tbody>\n",
       "    <tr>\n",
       "      <th>BaselineOnly</th>\n",
       "      <td>0.0</td>\n",
       "      <td>0.0</td>\n",
       "      <td>0.0</td>\n",
       "      <td>0.0</td>\n",
       "      <td>0.059746</td>\n",
       "      <td>0.032281</td>\n",
       "    </tr>\n",
       "    <tr>\n",
       "      <th>KNNBasic</th>\n",
       "      <td>0.0</td>\n",
       "      <td>0.0</td>\n",
       "      <td>0.0</td>\n",
       "      <td>0.0</td>\n",
       "      <td>0.119249</td>\n",
       "      <td>0.353640</td>\n",
       "    </tr>\n",
       "    <tr>\n",
       "      <th>KNNWithMeans</th>\n",
       "      <td>0.0</td>\n",
       "      <td>0.0</td>\n",
       "      <td>0.0</td>\n",
       "      <td>0.0</td>\n",
       "      <td>0.123956</td>\n",
       "      <td>0.445351</td>\n",
       "    </tr>\n",
       "    <tr>\n",
       "      <th>KNNBaseline</th>\n",
       "      <td>0.0</td>\n",
       "      <td>0.0</td>\n",
       "      <td>0.0</td>\n",
       "      <td>0.0</td>\n",
       "      <td>0.110794</td>\n",
       "      <td>0.467172</td>\n",
       "    </tr>\n",
       "  </tbody>\n",
       "</table>\n",
       "</div>"
      ],
      "text/plain": [
       "              test_mae  train_mae  test_rmse  train_rmse  fit_time  test_time\n",
       "Algorithm                                                                    \n",
       "BaselineOnly       0.0        0.0        0.0         0.0  0.059746   0.032281\n",
       "KNNBasic           0.0        0.0        0.0         0.0  0.119249   0.353640\n",
       "KNNWithMeans       0.0        0.0        0.0         0.0  0.123956   0.445351\n",
       "KNNBaseline        0.0        0.0        0.0         0.0  0.110794   0.467172"
      ]
     },
     "execution_count": 11,
     "metadata": {},
     "output_type": "execute_result"
    }
   ],
   "source": [
    "# benchmark = []\n",
    "\n",
    "# algorithms = [BaselineOnly(), KNNBasic(), KNNWithMeans(), KNNBaseline()]\n",
    "# for algorithm in algorithms:\n",
    "#     # Perform cross validation\n",
    "#     results = cross_validate(algorithm, \n",
    "#                              data, \n",
    "#                              measures=['MAE', 'RMSE'], \n",
    "#                              cv=5, \n",
    "#                              return_train_measures=True, \n",
    "#                              verbose=False)\n",
    "\n",
    "#     # Get results & append algorithm name\n",
    "#     tmp = pd.DataFrame.from_dict(results).mean(axis=0)\n",
    "#     tmp = tmp.append(pd.Series([str(algorithm).split(' ')[0].split('.')[-1]], index=['Algorithm']))\n",
    "#     benchmark.append(tmp)\n",
    "    \n",
    "# pd.DataFrame(benchmark).set_index('Algorithm').sort_values('test_rmse')\n"
   ]
  },
  {
   "cell_type": "code",
   "execution_count": 167,
   "id": "a42ea87c",
   "metadata": {},
   "outputs": [
    {
     "name": "stdout",
     "output_type": "stream",
     "text": [
      "Computing the cosine similarity matrix...\n",
      "Done computing similarity matrix.\n"
     ]
    },
    {
     "data": {
      "text/plain": [
       "1"
      ]
     },
     "execution_count": 167,
     "metadata": {},
     "output_type": "execute_result"
    }
   ],
   "source": [
    "\n",
    "# A reader is still needed but only the rating_scale param is requiered.\n",
    "# reader = Reader(rating_scale=(1, 5))\n",
    "\n",
    "# The columns must correspond to user id, item id and ratings (in that order).\n",
    "# data = Dataset.load_from_df(df[[\"userID\", \"itemID\", \"rating\"]], reader)\n",
    "\n",
    "# We can now use this dataset as we please, e.g. calling cross_validate\n",
    "# cross_validate(KNNWithMeans(sim_options={\n",
    "#     'name': 'cosine',\n",
    "#     'user_based': False\n",
    "# }), data, cv=2)\n",
    "\n",
    "reader = Reader(rating_scale=(0, 1))\n",
    "data = Dataset.load_from_df(all_ratings[['User', 'Repos', 'Rating']], reader)\n",
    "\n",
    "training_set = data.build_full_trainset()\n",
    "\n",
    "sim_options = {\n",
    "    \"name\": \"cosine\",\n",
    "    \"user_based\": True\n",
    "}\n",
    "algo = KNNWithMeans(sim_options=sim_options)\n",
    "\n",
    "algo.fit(training_set)\n",
    "\n",
    "pred = algo.predict('0x00evil', 'asbdd')\n",
    "pred.est"
   ]
  },
  {
   "cell_type": "code",
   "execution_count": 170,
   "id": "cb5bfd02",
   "metadata": {},
   "outputs": [
    {
     "data": {
      "text/plain": [
       "<surprise.trainset.Trainset at 0x136b37f70>"
      ]
     },
     "execution_count": 170,
     "metadata": {},
     "output_type": "execute_result"
    }
   ],
   "source": [
    "training_set"
   ]
  },
  {
   "cell_type": "code",
   "execution_count": 100,
   "id": "c4311970",
   "metadata": {},
   "outputs": [
    {
     "data": {
      "text/html": [
       "<div>\n",
       "<style scoped>\n",
       "    .dataframe tbody tr th:only-of-type {\n",
       "        vertical-align: middle;\n",
       "    }\n",
       "\n",
       "    .dataframe tbody tr th {\n",
       "        vertical-align: top;\n",
       "    }\n",
       "\n",
       "    .dataframe thead th {\n",
       "        text-align: right;\n",
       "    }\n",
       "</style>\n",
       "<table border=\"1\" class=\"dataframe\">\n",
       "  <thead>\n",
       "    <tr style=\"text-align: right;\">\n",
       "      <th></th>\n",
       "      <th>User</th>\n",
       "      <th>Repos</th>\n",
       "      <th>Rating</th>\n",
       "    </tr>\n",
       "  </thead>\n",
       "  <tbody>\n",
       "    <tr>\n",
       "      <th>0</th>\n",
       "      <td>0x00evil</td>\n",
       "      <td>atom/atom</td>\n",
       "      <td>1.0</td>\n",
       "    </tr>\n",
       "    <tr>\n",
       "      <th>1</th>\n",
       "      <td>0x00evil</td>\n",
       "      <td>scrapy/scrapy</td>\n",
       "      <td>1.0</td>\n",
       "    </tr>\n",
       "    <tr>\n",
       "      <th>2</th>\n",
       "      <td>0x00evil</td>\n",
       "      <td>jekyll/jekyll</td>\n",
       "      <td>1.0</td>\n",
       "    </tr>\n",
       "    <tr>\n",
       "      <th>3</th>\n",
       "      <td>0x00evil</td>\n",
       "      <td>git/git</td>\n",
       "      <td>1.0</td>\n",
       "    </tr>\n",
       "    <tr>\n",
       "      <th>4</th>\n",
       "      <td>0x00evil</td>\n",
       "      <td>torvalds/linux</td>\n",
       "      <td>1.0</td>\n",
       "    </tr>\n",
       "    <tr>\n",
       "      <th>5</th>\n",
       "      <td>0x00evil</td>\n",
       "      <td>rails/rails</td>\n",
       "      <td>1.0</td>\n",
       "    </tr>\n",
       "    <tr>\n",
       "      <th>6</th>\n",
       "      <td>0x00evil</td>\n",
       "      <td>spree/spree</td>\n",
       "      <td>1.0</td>\n",
       "    </tr>\n",
       "    <tr>\n",
       "      <th>7</th>\n",
       "      <td>0x00evil</td>\n",
       "      <td>SwiftGGTeam/the-swift-programming-language-in-...</td>\n",
       "      <td>1.0</td>\n",
       "    </tr>\n",
       "    <tr>\n",
       "      <th>8</th>\n",
       "      <td>0x00evil</td>\n",
       "      <td>sinatra/sinatra</td>\n",
       "      <td>1.0</td>\n",
       "    </tr>\n",
       "    <tr>\n",
       "      <th>9</th>\n",
       "      <td>0x00evil</td>\n",
       "      <td>golang/go</td>\n",
       "      <td>1.0</td>\n",
       "    </tr>\n",
       "    <tr>\n",
       "      <th>10</th>\n",
       "      <td>0x00evil</td>\n",
       "      <td>capistrano/capistrano</td>\n",
       "      <td>1.0</td>\n",
       "    </tr>\n",
       "    <tr>\n",
       "      <th>11</th>\n",
       "      <td>0xWDG</td>\n",
       "      <td>apple/swift</td>\n",
       "      <td>1.0</td>\n",
       "    </tr>\n",
       "    <tr>\n",
       "      <th>12</th>\n",
       "      <td>0xWDG</td>\n",
       "      <td>yuzu-emu/yuzu</td>\n",
       "      <td>1.0</td>\n",
       "    </tr>\n",
       "    <tr>\n",
       "      <th>13</th>\n",
       "      <td>0xWDG</td>\n",
       "      <td>codecrafters-io/build-your-own-x</td>\n",
       "      <td>1.0</td>\n",
       "    </tr>\n",
       "    <tr>\n",
       "      <th>14</th>\n",
       "      <td>0xWDG</td>\n",
       "      <td>SamyPesse/How-to-Make-a-Computer-Operating-System</td>\n",
       "      <td>1.0</td>\n",
       "    </tr>\n",
       "    <tr>\n",
       "      <th>15</th>\n",
       "      <td>11ph22il</td>\n",
       "      <td>microsoft/vscode</td>\n",
       "      <td>1.0</td>\n",
       "    </tr>\n",
       "    <tr>\n",
       "      <th>16</th>\n",
       "      <td>11ph22il</td>\n",
       "      <td>microsoft/PowerToys</td>\n",
       "      <td>1.0</td>\n",
       "    </tr>\n",
       "    <tr>\n",
       "      <th>17</th>\n",
       "      <td>1pete</td>\n",
       "      <td>emberjs/ember.js</td>\n",
       "      <td>1.0</td>\n",
       "    </tr>\n",
       "    <tr>\n",
       "      <th>18</th>\n",
       "      <td>1pete</td>\n",
       "      <td>TryGhost/Ghost</td>\n",
       "      <td>1.0</td>\n",
       "    </tr>\n",
       "    <tr>\n",
       "      <th>19</th>\n",
       "      <td>1pete</td>\n",
       "      <td>expressjs/express</td>\n",
       "      <td>1.0</td>\n",
       "    </tr>\n",
       "  </tbody>\n",
       "</table>\n",
       "</div>"
      ],
      "text/plain": [
       "        User                                              Repos  Rating\n",
       "0   0x00evil                                          atom/atom     1.0\n",
       "1   0x00evil                                      scrapy/scrapy     1.0\n",
       "2   0x00evil                                      jekyll/jekyll     1.0\n",
       "3   0x00evil                                            git/git     1.0\n",
       "4   0x00evil                                     torvalds/linux     1.0\n",
       "5   0x00evil                                        rails/rails     1.0\n",
       "6   0x00evil                                        spree/spree     1.0\n",
       "7   0x00evil  SwiftGGTeam/the-swift-programming-language-in-...     1.0\n",
       "8   0x00evil                                    sinatra/sinatra     1.0\n",
       "9   0x00evil                                          golang/go     1.0\n",
       "10  0x00evil                              capistrano/capistrano     1.0\n",
       "11     0xWDG                                        apple/swift     1.0\n",
       "12     0xWDG                                      yuzu-emu/yuzu     1.0\n",
       "13     0xWDG                   codecrafters-io/build-your-own-x     1.0\n",
       "14     0xWDG  SamyPesse/How-to-Make-a-Computer-Operating-System     1.0\n",
       "15  11ph22il                                   microsoft/vscode     1.0\n",
       "16  11ph22il                                microsoft/PowerToys     1.0\n",
       "17     1pete                                   emberjs/ember.js     1.0\n",
       "18     1pete                                     TryGhost/Ghost     1.0\n",
       "19     1pete                                  expressjs/express     1.0"
      ]
     },
     "execution_count": 100,
     "metadata": {},
     "output_type": "execute_result"
    }
   ],
   "source": [
    "all_ratings.head(20)"
   ]
  }
 ],
 "metadata": {
  "kernelspec": {
   "display_name": "Python 3 (ipykernel)",
   "language": "python",
   "name": "python3"
  },
  "language_info": {
   "codemirror_mode": {
    "name": "ipython",
    "version": 3
   },
   "file_extension": ".py",
   "mimetype": "text/x-python",
   "name": "python",
   "nbconvert_exporter": "python",
   "pygments_lexer": "ipython3",
   "version": "3.9.6"
  }
 },
 "nbformat": 4,
 "nbformat_minor": 5
}
