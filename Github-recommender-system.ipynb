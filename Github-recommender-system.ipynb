{
  "nbformat": 4,
  "nbformat_minor": 0,
  "metadata": {
    "colab": {
      "provenance": [],
      "collapsed_sections": [],
      "mount_file_id": "1gDQN8fLRCeAPKSH0IWyrPEYxn1YWCsQB",
      "authorship_tag": "ABX9TyMtVgE+GBprvRlWE6/yLeyq",
      "include_colab_link": true
    },
    "kernelspec": {
      "name": "python3",
      "display_name": "Python 3"
    },
    "language_info": {
      "name": "python"
    }
  },
  "cells": [
    {
      "cell_type": "markdown",
      "metadata": {
        "id": "view-in-github",
        "colab_type": "text"
      },
      "source": [
        "<a href=\"https://colab.research.google.com/github/s3965610/COSC2671-A2/blob/asif-recommender-system/Github-recommender-system.ipynb\" target=\"_parent\"><img src=\"https://colab.research.google.com/assets/colab-badge.svg\" alt=\"Open In Colab\"/></a>"
      ]
    },
    {
      "cell_type": "code",
      "execution_count": 1,
      "metadata": {
        "id": "DvqWqP53RExO"
      },
      "outputs": [],
      "source": [
        "import json\n",
        "from pandas import json_normalize\n",
        "import pandas as pd\n",
        "import numpy as np"
      ]
    },
    {
      "cell_type": "code",
      "source": [
        "with open(\"/content/drive/MyDrive/data/user_repos.json\", \"r\") as read_file:\n",
        "    user_repos = json.load(read_file)\n"
      ],
      "metadata": {
        "id": "RZuwRLlNWctn"
      },
      "execution_count": 2,
      "outputs": []
    },
    {
      "cell_type": "code",
      "source": [
        "df = json_normalize(user_repos) "
      ],
      "metadata": {
        "id": "hv2uisoXDwtN"
      },
      "execution_count": 3,
      "outputs": []
    },
    {
      "cell_type": "code",
      "source": [
        "user_repos_dict = {}\n",
        "data = []\n",
        "for i in user_repos:\n",
        "    temp = {}\n",
        "    temp['Total Starred'] = user_repos[i]['data']['user']['starredRepositories']['totalCount']\n",
        "    temp['StarredRepos'] = []\n",
        "    row = []\n",
        "    row.append(i)\n",
        "    row.append(temp['Total Starred'] )\n",
        "    for node in user_repos[i]['data']['user']['starredRepositories']['nodes']:\n",
        "        temp['StarredRepos'].append(node['nameWithOwner'])\n",
        "\n",
        "    row.append(temp['StarredRepos'])\n",
        "\n",
        "    data.append(row)\n",
        "    user_repos_dict[i] = temp\n"
      ],
      "metadata": {
        "id": "RO40pgV_DDpc"
      },
      "execution_count": 4,
      "outputs": []
    },
    {
      "cell_type": "code",
      "source": [
        "user_repos_dict['glenux']"
      ],
      "metadata": {
        "id": "_DWnS042HFI7"
      },
      "execution_count": null,
      "outputs": []
    },
    {
      "cell_type": "code",
      "source": [
        "df = pd.DataFrame.from_dict(user_repos_dict)"
      ],
      "metadata": {
        "id": "ZlW7pYl2Iwub"
      },
      "execution_count": 5,
      "outputs": []
    },
    {
      "cell_type": "code",
      "source": [
        "numpy_array = np.array(data)"
      ],
      "metadata": {
        "colab": {
          "base_uri": "https://localhost:8080/"
        },
        "id": "XgmpbLaBJPeg",
        "outputId": "c61a4b89-3814-4037-c149-496eecf96121"
      },
      "execution_count": 6,
      "outputs": [
        {
          "output_type": "stream",
          "name": "stderr",
          "text": [
            "/usr/local/lib/python3.7/dist-packages/ipykernel_launcher.py:1: VisibleDeprecationWarning: Creating an ndarray from ragged nested sequences (which is a list-or-tuple of lists-or-tuples-or ndarrays with different lengths or shapes) is deprecated. If you meant to do this, you must specify 'dtype=object' when creating the ndarray.\n",
            "  \"\"\"Entry point for launching an IPython kernel.\n"
          ]
        }
      ]
    },
    {
      "cell_type": "code",
      "source": [
        "df = pd.DataFrame(numpy_array, columns=['User', 'Total Starred', \n",
        "                      'Repos'])"
      ],
      "metadata": {
        "id": "fQoQurKaSy91"
      },
      "execution_count": 7,
      "outputs": []
    },
    {
      "cell_type": "code",
      "source": [
        "df.head(5)"
      ],
      "metadata": {
        "colab": {
          "base_uri": "https://localhost:8080/",
          "height": 206
        },
        "id": "uG4nIcXW4uO0",
        "outputId": "3ed5d0a4-4845-45aa-cec8-4a84e10d71e2"
      },
      "execution_count": 11,
      "outputs": [
        {
          "output_type": "execute_result",
          "data": {
            "text/plain": [
              "          User Total Starred  \\\n",
              "0  01885326842             1   \n",
              "1     0x00evil          1441   \n",
              "2        0xWDG           240   \n",
              "3   1016135097            25   \n",
              "4     11ph22il           497   \n",
              "\n",
              "                                               Repos  \n",
              "0                                      [novuhq/novu]  \n",
              "1  [atom/atom, greatfire/wiki, rails-sqlserver/ac...  \n",
              "2  [nygard/class-dump, 0xWDG/tvOS.js, apple/swift...  \n",
              "3  [sumanth-ch/OA-Services, JStumpp/awesome-andro...  \n",
              "4  [dustin/twitty-twister, reddit-archive/reddit-...  "
            ],
            "text/html": [
              "\n",
              "  <div id=\"df-76282aa8-f667-4b0e-b3df-7006f320ec37\">\n",
              "    <div class=\"colab-df-container\">\n",
              "      <div>\n",
              "<style scoped>\n",
              "    .dataframe tbody tr th:only-of-type {\n",
              "        vertical-align: middle;\n",
              "    }\n",
              "\n",
              "    .dataframe tbody tr th {\n",
              "        vertical-align: top;\n",
              "    }\n",
              "\n",
              "    .dataframe thead th {\n",
              "        text-align: right;\n",
              "    }\n",
              "</style>\n",
              "<table border=\"1\" class=\"dataframe\">\n",
              "  <thead>\n",
              "    <tr style=\"text-align: right;\">\n",
              "      <th></th>\n",
              "      <th>User</th>\n",
              "      <th>Total Starred</th>\n",
              "      <th>Repos</th>\n",
              "    </tr>\n",
              "  </thead>\n",
              "  <tbody>\n",
              "    <tr>\n",
              "      <th>0</th>\n",
              "      <td>01885326842</td>\n",
              "      <td>1</td>\n",
              "      <td>[novuhq/novu]</td>\n",
              "    </tr>\n",
              "    <tr>\n",
              "      <th>1</th>\n",
              "      <td>0x00evil</td>\n",
              "      <td>1441</td>\n",
              "      <td>[atom/atom, greatfire/wiki, rails-sqlserver/ac...</td>\n",
              "    </tr>\n",
              "    <tr>\n",
              "      <th>2</th>\n",
              "      <td>0xWDG</td>\n",
              "      <td>240</td>\n",
              "      <td>[nygard/class-dump, 0xWDG/tvOS.js, apple/swift...</td>\n",
              "    </tr>\n",
              "    <tr>\n",
              "      <th>3</th>\n",
              "      <td>1016135097</td>\n",
              "      <td>25</td>\n",
              "      <td>[sumanth-ch/OA-Services, JStumpp/awesome-andro...</td>\n",
              "    </tr>\n",
              "    <tr>\n",
              "      <th>4</th>\n",
              "      <td>11ph22il</td>\n",
              "      <td>497</td>\n",
              "      <td>[dustin/twitty-twister, reddit-archive/reddit-...</td>\n",
              "    </tr>\n",
              "  </tbody>\n",
              "</table>\n",
              "</div>\n",
              "      <button class=\"colab-df-convert\" onclick=\"convertToInteractive('df-76282aa8-f667-4b0e-b3df-7006f320ec37')\"\n",
              "              title=\"Convert this dataframe to an interactive table.\"\n",
              "              style=\"display:none;\">\n",
              "        \n",
              "  <svg xmlns=\"http://www.w3.org/2000/svg\" height=\"24px\"viewBox=\"0 0 24 24\"\n",
              "       width=\"24px\">\n",
              "    <path d=\"M0 0h24v24H0V0z\" fill=\"none\"/>\n",
              "    <path d=\"M18.56 5.44l.94 2.06.94-2.06 2.06-.94-2.06-.94-.94-2.06-.94 2.06-2.06.94zm-11 1L8.5 8.5l.94-2.06 2.06-.94-2.06-.94L8.5 2.5l-.94 2.06-2.06.94zm10 10l.94 2.06.94-2.06 2.06-.94-2.06-.94-.94-2.06-.94 2.06-2.06.94z\"/><path d=\"M17.41 7.96l-1.37-1.37c-.4-.4-.92-.59-1.43-.59-.52 0-1.04.2-1.43.59L10.3 9.45l-7.72 7.72c-.78.78-.78 2.05 0 2.83L4 21.41c.39.39.9.59 1.41.59.51 0 1.02-.2 1.41-.59l7.78-7.78 2.81-2.81c.8-.78.8-2.07 0-2.86zM5.41 20L4 18.59l7.72-7.72 1.47 1.35L5.41 20z\"/>\n",
              "  </svg>\n",
              "      </button>\n",
              "      \n",
              "  <style>\n",
              "    .colab-df-container {\n",
              "      display:flex;\n",
              "      flex-wrap:wrap;\n",
              "      gap: 12px;\n",
              "    }\n",
              "\n",
              "    .colab-df-convert {\n",
              "      background-color: #E8F0FE;\n",
              "      border: none;\n",
              "      border-radius: 50%;\n",
              "      cursor: pointer;\n",
              "      display: none;\n",
              "      fill: #1967D2;\n",
              "      height: 32px;\n",
              "      padding: 0 0 0 0;\n",
              "      width: 32px;\n",
              "    }\n",
              "\n",
              "    .colab-df-convert:hover {\n",
              "      background-color: #E2EBFA;\n",
              "      box-shadow: 0px 1px 2px rgba(60, 64, 67, 0.3), 0px 1px 3px 1px rgba(60, 64, 67, 0.15);\n",
              "      fill: #174EA6;\n",
              "    }\n",
              "\n",
              "    [theme=dark] .colab-df-convert {\n",
              "      background-color: #3B4455;\n",
              "      fill: #D2E3FC;\n",
              "    }\n",
              "\n",
              "    [theme=dark] .colab-df-convert:hover {\n",
              "      background-color: #434B5C;\n",
              "      box-shadow: 0px 1px 3px 1px rgba(0, 0, 0, 0.15);\n",
              "      filter: drop-shadow(0px 1px 2px rgba(0, 0, 0, 0.3));\n",
              "      fill: #FFFFFF;\n",
              "    }\n",
              "  </style>\n",
              "\n",
              "      <script>\n",
              "        const buttonEl =\n",
              "          document.querySelector('#df-76282aa8-f667-4b0e-b3df-7006f320ec37 button.colab-df-convert');\n",
              "        buttonEl.style.display =\n",
              "          google.colab.kernel.accessAllowed ? 'block' : 'none';\n",
              "\n",
              "        async function convertToInteractive(key) {\n",
              "          const element = document.querySelector('#df-76282aa8-f667-4b0e-b3df-7006f320ec37');\n",
              "          const dataTable =\n",
              "            await google.colab.kernel.invokeFunction('convertToInteractive',\n",
              "                                                     [key], {});\n",
              "          if (!dataTable) return;\n",
              "\n",
              "          const docLinkHtml = 'Like what you see? Visit the ' +\n",
              "            '<a target=\"_blank\" href=https://colab.research.google.com/notebooks/data_table.ipynb>data table notebook</a>'\n",
              "            + ' to learn more about interactive tables.';\n",
              "          element.innerHTML = '';\n",
              "          dataTable['output_type'] = 'display_data';\n",
              "          await google.colab.output.renderOutput(dataTable, element);\n",
              "          const docLink = document.createElement('div');\n",
              "          docLink.innerHTML = docLinkHtml;\n",
              "          element.appendChild(docLink);\n",
              "        }\n",
              "      </script>\n",
              "    </div>\n",
              "  </div>\n",
              "  "
            ]
          },
          "metadata": {},
          "execution_count": 11
        }
      ]
    },
    {
      "cell_type": "code",
      "source": [
        "mergedlist = []\n",
        "for i in df['Repos'].dropna():\n",
        "    mergedlist.extend(i)\n",
        "repos = sorted(set(mergedlist))"
      ],
      "metadata": {
        "id": "gM70EO1Dg4bR"
      },
      "execution_count": 8,
      "outputs": []
    },
    {
      "cell_type": "code",
      "source": [
        "def jaccard_similarity(list1, list2):\n",
        "    union = len(set(list1 + list2))\n",
        "    list3 = [value for value in list1 if value in list2]\n",
        "    intersection = len(list3)\n",
        "    if(union == 0):\n",
        "        return 0\n",
        "    return (intersection * 1.0)/union\n",
        "\n"
      ],
      "metadata": {
        "id": "59gEbKnOiHYu"
      },
      "execution_count": 9,
      "outputs": []
    },
    {
      "cell_type": "code",
      "source": [
        "similarity_matrix = {}\n",
        "for i in user_repos_dict.keys():\n",
        "    similarity_matrix[i] = {}\n",
        "    for j in user_repos_dict.keys():\n",
        "        l1 = user_repos_dict[i]['StarredRepos']\n",
        "        l2 = user_repos_dict[j]['StarredRepos']\n",
        "        similarity_matrix[i][j] = jaccard_similarity(l1, l2)\n"
      ],
      "metadata": {
        "id": "KQUFzh_XszRl"
      },
      "execution_count": 10,
      "outputs": []
    },
    {
      "cell_type": "code",
      "source": [
        "import heapq\n",
        "k_keys_sorted = heapq.nlargest(5, similarity_matrix['0x00evil'])\n"
      ],
      "metadata": {
        "id": "yvh7MOW58uqk"
      },
      "execution_count": 12,
      "outputs": []
    },
    {
      "cell_type": "code",
      "source": [
        "k_keys_sorted"
      ],
      "metadata": {
        "colab": {
          "base_uri": "https://localhost:8080/"
        },
        "id": "PUno9pFY42G6",
        "outputId": "b74c1a6f-f572-44b7-9d01-f5f3d5794e4d"
      },
      "execution_count": 13,
      "outputs": [
        {
          "output_type": "execute_result",
          "data": {
            "text/plain": [
              "['zzragida', 'zzcclp', 'zsy619', 'zplanet', 'zoozoogao']"
            ]
          },
          "metadata": {},
          "execution_count": 13
        }
      ]
    },
    {
      "cell_type": "code",
      "source": [
        "similarity_matrix['0x00evil']"
      ],
      "metadata": {
        "id": "qTiiRQU_48s3"
      },
      "execution_count": null,
      "outputs": []
    },
    {
      "cell_type": "code",
      "source": [
        "def getTopKUsers(k, user):\n",
        "    k_keys_sorted = heapq.nlargest(5, similarity_matrix['0x00evil'])\n",
        "    return k_keys_sorted\n"
      ],
      "metadata": {
        "id": "dd_xbhTf6Hcr"
      },
      "execution_count": 17,
      "outputs": []
    },
    {
      "cell_type": "code",
      "source": [
        "def mostCommonRepo(users, repo_dict):\n",
        "    repos = {}\n",
        "    for u in users:\n",
        "        for repo in repo_dict[u]['StarredRepos']:\n",
        "            if repo in repo_dict.keys():\n",
        "                repos[repo] += 1\n",
        "            else: \n",
        "                repos[repo] = 1\n",
        "    return repos"
      ],
      "metadata": {
        "id": "YxI8qIar6dWb"
      },
      "execution_count": 18,
      "outputs": []
    },
    {
      "cell_type": "code",
      "source": [
        "test = mostCommonRepo(k_keys_sorted, user_repos_dict)"
      ],
      "metadata": {
        "id": "iwgnOrRS8CjC"
      },
      "execution_count": 19,
      "outputs": []
    },
    {
      "cell_type": "code",
      "source": [
        "test"
      ],
      "metadata": {
        "colab": {
          "base_uri": "https://localhost:8080/"
        },
        "id": "KBCrLsKI8QgC",
        "outputId": "e40a8a8f-4cb2-4a23-f3f7-65c7c66217dd"
      },
      "execution_count": 20,
      "outputs": [
        {
          "output_type": "execute_result",
          "data": {
            "text/plain": [
              "{'JakeWharton/ActionBarSherlock': 1,\n",
              " 'castorflex/FlipImageView': 1,\n",
              " 'takimafr/androidkickstartr': 1,\n",
              " 'nostra13/Android-Universal-Image-Loader': 1,\n",
              " 'keyboardsurfer/Crouton': 1,\n",
              " 'square/dagger': 1,\n",
              " 'square/retrofit': 1,\n",
              " 'square/android-times-square': 1,\n",
              " 'ragunathjawahar/instant-adapter': 1,\n",
              " 'chrisbanes/Android-BitmapCache': 1,\n",
              " 'Hanul/UJS': 1,\n",
              " 'dotnet/corefx': 1,\n",
              " 'dotnet-foundation/foundation': 1,\n",
              " 'ricardojmendez/LibNoise.Unity': 1,\n",
              " 'strongloop/loopback': 1,\n",
              " 'google/seesaw': 1,\n",
              " 'bayandin/awesome-awesomeness': 1,\n",
              " 'fffaraz/awesome-cpp': 1,\n",
              " 'avelino/awesome-go': 1,\n",
              " 'akullpp/awesome-java': 1,\n",
              " 'commaai/research': 1,\n",
              " 'commaai/neo': 1,\n",
              " 'commaai/openpilot': 1,\n",
              " 'loom/loom': 1,\n",
              " 'nhn/socket.io-client-unity3d': 1,\n",
              " 'Cysharp/MagicOnion': 1,\n",
              " 'cockroachdb/cockroach': 1,\n",
              " 'line/armeria': 1,\n",
              " 'realm/realm-dotnet': 1,\n",
              " 'grpc/grpc': 1,\n",
              " 'couchbase/couchbase-lite-net': 1,\n",
              " 'BBuzzArt/react-native-infinite': 1,\n",
              " 'openfaas/faas': 1,\n",
              " 'apache/openwhisk': 1,\n",
              " 'sschmid/Entitas': 1,\n",
              " 'scouter-project/scouter': 1,\n",
              " 'MrSyee/pg-is-all-you-need': 1,\n",
              " 'tensorflow/adanet': 1,\n",
              " 'GetFirefly/firefly': 1,\n",
              " 'IDSIA/sacred': 1,\n",
              " 'microsoft/nni': 1,\n",
              " 'pond3r/ggpo': 1,\n",
              " 'team-jupeter/qup': 1,\n",
              " 'heroiclabs/nakama': 1,\n",
              " 'deep-diver/fb-group-post-fetcher': 1,\n",
              " 'vanilla-manifesto/vanilla-di-manifesto': 1,\n",
              " 'vmware-archive/kubewatch': 1,\n",
              " 'hyunwoongko/kochat': 1,\n",
              " 'hyunwoongko/kocrawl': 1,\n",
              " 'Klevry/klevr': 1,\n",
              " 'rasbt/deeplearning-models': 1,\n",
              " 'fbdesignpro/sweetviz': 1,\n",
              " 'medipixel/rl_algorithms': 1,\n",
              " 'yunho0130/awesome-blockchain-kor': 1,\n",
              " 'tiangolo/fastapi': 1,\n",
              " 'clovaai/deep-text-recognition-benchmark': 1,\n",
              " 'deeplearning4j/deeplearning4j-examples': 1,\n",
              " 'facebookresearch/ParlAI': 1,\n",
              " 'Unity-Technologies/BackgroundDownload': 1,\n",
              " 'huggingface/transformers': 1,\n",
              " 'google/jax': 1,\n",
              " 'JaidedAI/EasyOCR': 1,\n",
              " 'facebookresearch/hydra': 1,\n",
              " 'pytorch/ignite': 1,\n",
              " 'google-research/google-research': 1,\n",
              " 'ray-project/ray': 1,\n",
              " 'themesberg/volt-bootstrap-5-dashboard': 1,\n",
              " 'ktorio/ktor': 1,\n",
              " 'ThusSpokeNomad/GameNetworkingResources': 1,\n",
              " 'SodiumFRP/sodium': 1,\n",
              " 'mindsdb/mindsdb': 1,\n",
              " 'snowplow/snowplow': 1,\n",
              " 'kmario23/deep-learning-drizzle': 1,\n",
              " 'kubeflow/kubeflow': 1,\n",
              " 'tensortrade-org/tensortrade': 1,\n",
              " 'psmon/AkkaDotModule': 1,\n",
              " 'redpanda-data/redpanda': 1,\n",
              " 'deepmind/dm_env_rpc': 1,\n",
              " 'deepnight/ldtk': 1,\n",
              " 'robotframework/robotframework': 1,\n",
              " 'huggingface/datasets': 1,\n",
              " 'facebookresearch/dlrm': 1,\n",
              " 'team-jupeter/corea': 1,\n",
              " 'yunho0130/tensorflow-lite': 1,\n",
              " 'yoonseok312/watch-out': 1,\n",
              " 'fastai/ghapi': 1,\n",
              " 'public-apis/public-apis': 1,\n",
              " 'jrieke/traingenerator': 1,\n",
              " 'uoneway/Text-Summarization-Repo': 1,\n",
              " 'feast-dev/feast': 1,\n",
              " 'WooilJeong/PublicDataReader': 1,\n",
              " 'Junyoungpark/Pytorch-AWAC': 1,\n",
              " 'Junyoungpark/GNNAtoZ': 1,\n",
              " 'robotpilot/ros-seminar': 1,\n",
              " 'wan2land/unchartedwaters2': 1,\n",
              " 'jk96491/Advanced_Models': 1,\n",
              " 'oam-dev/spec': 1,\n",
              " 'kubevela/kubevela': 1,\n",
              " 'Lilcob/-DL_PaperReadingMeeting': 1,\n",
              " 'werner-duvaud/muzero-general': 1,\n",
              " 'alibaba/cobar': 1,\n",
              " 'MyCATApache/Mycat-doc': 1,\n",
              " 'MyCATApache/Mycat-Server': 1,\n",
              " 'MyCATApache/Mycat-Web': 1,\n",
              " 'PasaLab/tachyon-perf': 1,\n",
              " 'Alluxio/alluxio': 1,\n",
              " 'gearpump/gearpump': 1,\n",
              " 'apache/flink': 1,\n",
              " 'apache/kafka': 1,\n",
              " 'akka/akka': 1,\n",
              " 'saltstack/salt': 1,\n",
              " 'harlixxy/StudyNotes': 1,\n",
              " 'wxWidgets/wxPython-Classic': 1,\n",
              " 'MyCATApache/Mycat-spider': 1,\n",
              " 'vitessio/vitess': 1,\n",
              " 'wplatform/jdbc-shards': 1,\n",
              " 'apache/zeppelin': 1,\n",
              " 'ansible/ansible': 1,\n",
              " 'pandas-dev/pandas': 1,\n",
              " 'alibaba/jstorm': 1,\n",
              " 'apache/storm': 1,\n",
              " 'yahoo/storm-yarn': 1,\n",
              " 'beego/beego': 1,\n",
              " 'alibaba/druid': 1,\n",
              " 'hprose/hprose-html5': 1,\n",
              " 'ddf-project/DDF': 1,\n",
              " 'apache/airflow': 1,\n",
              " 'netty/netty': 1,\n",
              " 'zeroc-ice/ice': 1,\n",
              " 'buiteam/bui': 1,\n",
              " 'apache/echarts': 1,\n",
              " 'h2database/h2database': 1,\n",
              " 'XiaoMi/open-falcon': 1,\n",
              " 'urfave/negroni': 1,\n",
              " 'go-martini/martini': 1,\n",
              " 'ngaut/builddatabase': 1,\n",
              " 'chhao01/scala_tutorial': 1,\n",
              " 'wulei-bj-cn/spark-utilities': 1,\n",
              " 'apache/arrow': 1,\n",
              " 'JerryLead/SparkInternals': 1,\n",
              " 'lw-lin/CoolplaySpark': 1,\n",
              " 'elastic/elasticsearch-hadoop': 1,\n",
              " 'elastic/elasticsearch': 1,\n",
              " 'apache/spark': 1,\n",
              " 'apache/ignite': 1,\n",
              " 'lianhuiwang/spark-sql-yarn': 1,\n",
              " 'tensorflow/tensorflow': 1,\n",
              " 'Stratio/sparta': 1,\n",
              " 'byzer-org/byzer-lang': 1,\n",
              " 'apache/apex-core': 1,\n",
              " 'lock-upme/OPMS': 1,\n",
              " 'apache/mesos': 1,\n",
              " 'go-sql-driver/mysql': 1,\n",
              " 'sirupsen/logrus': 1,\n",
              " 'andeya/pholcus': 1,\n",
              " 'jerryshao/spark-kafka-0-8-sql': 1,\n",
              " 'bububa/mymysql': 1,\n",
              " 'mikespook/mymysql': 1,\n",
              " 'moby/moby': 1,\n",
              " 'kubernetes/kubernetes': 1,\n",
              " 'google/grumpy': 1,\n",
              " 'TalkingData/Fregata': 1,\n",
              " 'fatedier/frp': 1,\n",
              " 'amplab/drizzle-spark': 1,\n",
              " 'ClickHouse/ClickHouse': 1,\n",
              " 'databricks/tensorframes': 1,\n",
              " 'yahoo/TensorFlowOnSpark': 1,\n",
              " 'TIBCOSoftware/snappydata': 1,\n",
              " 'dghubble/sling': 1,\n",
              " 'jemygraw/TechDoc': 1,\n",
              " 'shunfei/indexr': 1,\n",
              " 'Activiti/Activiti': 1,\n",
              " 'apache/lucene-solr': 1,\n",
              " 'apache/incubator-livy': 1,\n",
              " 'alibaba/otter': 1,\n",
              " 'yaoweibin/nginx_tcp_proxy_module': 1,\n",
              " 'apache/carbondata': 1,\n",
              " 'mlflow/mlflow': 1,\n",
              " 'grafana/grafana': 1,\n",
              " 'edp963/wormhole': 1,\n",
              " 'teeyog/IQL': 1,\n",
              " 'hbutani/spark-druid-olap': 1,\n",
              " 'apache/calcite': 1,\n",
              " 'apache/iotdb': 1,\n",
              " 'istio/istio': 1,\n",
              " 'sofastack/sofa-boot': 1,\n",
              " 'alibaba/arthas': 1,\n",
              " 'flink-china/flink-training-course': 1,\n",
              " '996icu/996.ICU': 1,\n",
              " 'jeecgboot/jeecg-boot': 1,\n",
              " 'delta-io/delta': 1,\n",
              " 'chermenin/spark-states': 1,\n",
              " 'sql-machine-learning/sqlflow': 1,\n",
              " 'apache/hudi': 1,\n",
              " 'apache/iceberg': 1,\n",
              " 'huaweicloud/ModelArts-Lab': 1,\n",
              " 'allwefantasy/delta-plus': 1,\n",
              " 'TheAlgorithms/Python': 1,\n",
              " 'taosdata/TDengine': 1,\n",
              " 'aistack/sql-booster': 1,\n",
              " 'microsoft/vscode': 1,\n",
              " 'tangxuehua/estore': 1,\n",
              " 'sweetalert2/sweetalert2': 1,\n",
              " 'upper/db': 1,\n",
              " 'donnemartin/system-design-primer': 1,\n",
              " 'kissygalleryteam/kcharts': 1,\n",
              " 'andeya/aster': 1,\n",
              " 'talkgo/night': 1,\n",
              " 'Coldairarrow/Colder.Fx.Core.AdminLTE': 1,\n",
              " 'EpochCloud/quick': 1,\n",
              " 'bigwhite/gocmpp': 1,\n",
              " 'ahydrax/Hangfire.Heartbeat': 1,\n",
              " 'microsoft/terminal': 1,\n",
              " 'qax-os/excelize': 1,\n",
              " 'siaorg/sia-task': 1,\n",
              " 'xingshaocheng/architect-awesome': 1,\n",
              " 'google/go-cloud': 1,\n",
              " 'zsy619/night-reading-go': 1,\n",
              " 'bfenetworks/bfe': 1,\n",
              " 'Uncommon/Xit': 1,\n",
              " '1024-lab/smart-admin': 1,\n",
              " 'zyx0814/dzzoffice': 1,\n",
              " 'jianfengye/collection': 1,\n",
              " 'hediet/vscode-drawio': 1,\n",
              " 'zeromicro/go-zero': 1,\n",
              " 'ent/ent': 1,\n",
              " 'golang/go': 1,\n",
              " 'bullteam/zeus-admin': 1,\n",
              " 'go-admin-team/go-admin': 1,\n",
              " 'lanyulei/ferry': 1,\n",
              " 'v2fly/v2ray-core': 1,\n",
              " 'gohugoio/hugo': 1,\n",
              " 'ccfos/nightingale': 1,\n",
              " 'didi/KnowStreaming': 1,\n",
              " 'go-chassis/go-chassis': 1,\n",
              " 'cri-o/cri-o': 1,\n",
              " 'gocd/gocd': 1,\n",
              " 'fluxcd/flux': 1,\n",
              " 'saltbo/zpan': 1,\n",
              " 'erda-project/erda': 1,\n",
              " 'tinode/chat': 1,\n",
              " '3xxx/engineercms': 1,\n",
              " 'eyebluecn/tank': 1,\n",
              " 'bytebase/bytebase': 1,\n",
              " 'OpenIMSDK/Open-IM-Server': 1,\n",
              " 'g3n/engine': 1,\n",
              " 'nhn/tui.calendar': 1,\n",
              " 'primer/github-vscode-theme': 1,\n",
              " 'ToolJet/ToolJet': 1,\n",
              " 'YaoApp/yao': 1,\n",
              " 'musescore/MuseScore': 1,\n",
              " 'chinese-poetry/chinese-poetry': 1,\n",
              " 'Stellarium/stellarium': 1,\n",
              " 'alpha-rudy/taiwan-contour': 1,\n",
              " 'alpha-rudy/taiwan-topo': 1,\n",
              " 'yt-dlp/yt-dlp': 1,\n",
              " 'lovasoa/dezoomify-rs': 1}"
            ]
          },
          "metadata": {},
          "execution_count": 20
        }
      ]
    }
  ]
}